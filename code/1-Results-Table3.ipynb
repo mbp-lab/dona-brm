{
 "cells": [
  {
   "cell_type": "markdown",
   "id": "064ea367",
   "metadata": {},
   "source": [
    "## What is this notebook about?\n",
    "This notebook summarizes general information about the donations that are illustrated in Table 3 of the paper and referenced in the text. \n",
    "\n",
    "The numbers calculated here and other notebooks will be stored under the filepath indicated by the variable `data_reports_path` for future reference."
   ]
  },
  {
   "cell_type": "code",
   "execution_count": null,
   "id": "6fa65331",
   "metadata": {},
   "outputs": [],
   "source": [
    "# Some imports to get things started\n",
    "import sys\n",
    "import os\n",
    "import pandas as pd\n",
    "import numpy as np\n",
    "import warnings\n",
    "warnings.filterwarnings('ignore')\n",
    "sys.path.insert(1, os.path.abspath('../'))\n",
    "from utils import save_descriptive_stats, save_variables\n",
    "from pathlib import Path\n"
   ]
  },
  {
   "cell_type": "code",
   "execution_count": null,
   "id": "5469d561",
   "metadata": {},
   "outputs": [],
   "source": [
    "# Load the donation info \n",
    "donation_table = pd.read_csv(Path('../data/donation_table.csv'))\n",
    "\n",
    "# Load messages including those from non-interactive chats\n",
    "messages_table = pd.read_csv(Path('../data/messages_table.csv'))\n",
    "\n",
    "# Load filtered messages only from interactive chats\n",
    "messages_filtered_table = pd.read_csv(Path('../data/messages_filtered_table.csv'))\n",
    "\n",
    "# Where to save numbers from the analysis\n",
    "data_reports_fp = Path('../reports/numbers.dat')\n",
    "\n",
    "\n",
    "# Empty dictionaries to store values for illustrating the table\n",
    "WhatsApp_info = {} \n",
    "Facebook_info = {}"
   ]
  },
  {
   "cell_type": "code",
   "execution_count": null,
   "id": "a133d3e5",
   "metadata": {},
   "outputs": [],
   "source": [
    "# Numbers for the first part of Table 3\n",
    "for source, source_dict in zip(['WhatsApp','Facebook'],[WhatsApp_info,Facebook_info]):\n",
    "    sourceIDs = donation_table[donation_table['source'] == source]['donation_id']\n",
    "    source_messages = messages_table[messages_table['donation_id'].isin(sourceIDs)]\n",
    "    \n",
    "    #How many donations from each source were donated\n",
    "    source_dict['N of donations'] = len(donation_table[donation_table['source'] == source]['donation_id'])\n",
    "    \n",
    "    #  How many chats were from each source\n",
    "    source_dict['N of chats'] = len(source_messages.groupby('conversation_id'))\n",
    "    \n",
    "    # How many interactive chats from each source\n",
    "    source_messages_filtered = messages_filtered_table[messages_filtered_table['donation_id'].isin(sourceIDs)]\n",
    "    source_dict['N of interactive chats'] = len(source_messages_filtered.groupby('conversation_id'))\n",
    "\n",
    "    # How many chats per donation summarized by descriptive stats\n",
    "    chat_counts = source_messages.groupby('donation_id')['conversation_id'].nunique().reset_index()\n",
    "    source_dict['Chats per person Median'] = float(chat_counts['conversation_id'].median())\n",
    "\n",
    "    source_dict['Chats per person STD'] = float(chat_counts['conversation_id'].std())\n",
    "    source_dict['Chats per person Range'] = f'{chat_counts[\"conversation_id\"].min()}-{chat_counts[\"conversation_id\"].max()}'"
   ]
  },
  {
   "cell_type": "code",
   "execution_count": null,
   "id": "3b3d08af",
   "metadata": {},
   "outputs": [],
   "source": [
    "# Numbers for the second sand third parts of Table 3 \n",
    "for source, source_dict in zip(['WhatsApp','Facebook'],[WhatsApp_info,Facebook_info]):\n",
    "    sourceIDs = donation_table[donation_table['source'] == source]['donation_id']\n",
    "    source_messages = messages_table[messages_table['donation_id'].isin(sourceIDs)]\n",
    "    donation_message_counts = []\n",
    "    donation_spans = [] \n",
    "     \n",
    "    # Here we do calculations for each donation separately to derive sample statistics\n",
    "    for donationID in sourceIDs:\n",
    "        donation_messages = source_messages[source_messages['donation_id']==donationID]\n",
    "        donation_message_counts.append(len(donation_messages))\n",
    "        donation_messages['datetime'] = pd.to_datetime(donation_messages['datetime'])\n",
    "        earliest_date = donation_messages['datetime'].min()\n",
    "        latest_date = donation_messages['datetime'].max()\n",
    "        date_difference = (latest_date - earliest_date).days        \n",
    "        donation_spans.append(date_difference)\n",
    "\n",
    "    source_dict['Donation timespan (Days) Median'] = np.median(donation_spans)\n",
    "    source_dict['Donation timespan (Days) STD'] = np.std(donation_spans)\n",
    "    source_dict['Donation timespan (Days) Min'] = np.min(donation_spans)\n",
    "    source_dict['Donation timespan (Days) Max'] = np.max(donation_spans)\n",
    "\n",
    "\n",
    "    source_dict['Donation message count Median'] = np.median(donation_message_counts)\n",
    "    source_dict['Donation message count STD'] = np.std(donation_message_counts)\n",
    "    source_dict['Donation message count Min'] = np.min(donation_message_counts)\n",
    "    source_dict['Donation message count Max'] = np.max(donation_message_counts)\n",
    "\n",
    "    # Save values to a file for later reference in the paper \n",
    "    for key, value in source_dict.items():\n",
    "        try:\n",
    "            value = np.round(value,2)\n",
    "        except:\n",
    "            pass\n",
    "        try:\n",
    "            # Shorten the digits for large numbers\n",
    "            if value > 10000:\n",
    "                value = f'{int(value/1000)}k'\n",
    "                \n",
    "        except:\n",
    "            pass\n",
    "        save_variables(data_reports_fp,f'{source}-{key}',value)\n"
   ]
  },
  {
   "cell_type": "code",
   "execution_count": null,
   "id": "d4989aed",
   "metadata": {},
   "outputs": [],
   "source": [
    "# Print the results\n",
    "WhatsApp_df = pd.DataFrame(WhatsApp_info,index=['WhatsApp'])\n",
    "Facebook_df = pd.DataFrame(Facebook_info,index=['Facebook'])\n",
    "Table_3 = pd.concat([WhatsApp_df,Facebook_df]).T\n",
    "print(Table_3)"
   ]
  }
 ],
 "metadata": {
  "kernelspec": {
   "display_name": "Python 3 (ipykernel)",
   "language": "python",
   "name": "python3"
  },
  "language_info": {
   "codemirror_mode": {
    "name": "ipython",
    "version": 3
   },
   "file_extension": ".py",
   "mimetype": "text/x-python",
   "name": "python",
   "nbconvert_exporter": "python",
   "pygments_lexer": "ipython3",
   "version": "3.8.12"
  },
  "varInspector": {
   "cols": {
    "lenName": 16,
    "lenType": 16,
    "lenVar": 40
   },
   "kernels_config": {
    "python": {
     "delete_cmd_postfix": "",
     "delete_cmd_prefix": "del ",
     "library": "var_list.py",
     "varRefreshCmd": "print(var_dic_list())"
    },
    "r": {
     "delete_cmd_postfix": ") ",
     "delete_cmd_prefix": "rm(",
     "library": "var_list.r",
     "varRefreshCmd": "cat(var_dic_list()) "
    }
   },
   "types_to_exclude": [
    "module",
    "function",
    "builtin_function_or_method",
    "instance",
    "_Feature"
   ],
   "window_display": false
  }
 },
 "nbformat": 4,
 "nbformat_minor": 5
}
