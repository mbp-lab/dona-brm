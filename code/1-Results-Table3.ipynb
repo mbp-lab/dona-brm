{
 "cells": [
  {
   "cell_type": "markdown",
   "id": "064ea367",
   "metadata": {},
   "source": [
    "## What is this notebook about?\n",
    "This notebook summarizes general information about the donations that are illustrated in Table 3 of the paper and referenced in the text. \n",
    "\n",
    "The numbers calculated here and other notebooks will be stored under the filepath indicated by the variable `data_reports_path` for future reference."
   ]
  },
  {
   "cell_type": "code",
   "execution_count": 1,
   "id": "6fa65331",
   "metadata": {},
   "outputs": [],
   "source": [
    "# Some imports to get things started\n",
    "import sys\n",
    "import os\n",
    "import pandas as pd\n",
    "import numpy as np\n",
    "import warnings\n",
    "warnings.filterwarnings('ignore')\n",
    "sys.path.insert(1, os.path.abspath('../'))\n",
    "from utils import save_descriptive_stats, save_variables\n",
    "from pathlib import Path\n"
   ]
  },
  {
   "cell_type": "code",
   "execution_count": 2,
   "id": "5469d561",
   "metadata": {},
   "outputs": [],
   "source": [
    "# Load the donation info \n",
    "donation_table = pd.read_csv(Path('../data/donation_table.csv'))\n",
    "\n",
    "# Load messages including those from non-interactive chats\n",
    "messages_table = pd.read_csv(Path('../data/messages_table.csv'))\n",
    "\n",
    "# Load filtered messages only from interactive chats\n",
    "messages_filtered_table = pd.read_csv(Path('../data/messages_filtered_table.csv'))\n",
    "\n",
    "# Where to save numbers from the analysis\n",
    "data_reports_fp = Path('../reports/numbers.dat')\n",
    "\n",
    "\n",
    "# Empty dictionaries to store values for illustrating the table\n",
    "WhatsApp_info = {} \n",
    "Facebook_info = {}"
   ]
  },
  {
   "cell_type": "code",
   "execution_count": 3,
   "id": "a133d3e5",
   "metadata": {},
   "outputs": [],
   "source": [
    "# Numbers for the first part of Table 3\n",
    "for source, source_dict in zip(['WhatsApp','Facebook'],[WhatsApp_info,Facebook_info]):\n",
    "    sourceIDs = donation_table[donation_table['source'] == source]['donation_id']\n",
    "    source_messages = messages_table[messages_table['donation_id'].isin(sourceIDs)]\n",
    "    \n",
    "    #How many donations from each source were donated\n",
    "    source_dict['N of donations'] = len(donation_table[donation_table['source'] == source]['donation_id'])\n",
    "    \n",
    "    #  How many chats were from each source\n",
    "    source_dict['N of chats'] = len(source_messages.groupby('conversation_id'))\n",
    "    \n",
    "    # How many interactive chats from each source\n",
    "    source_messages_filtered = messages_filtered_table[messages_filtered_table['donation_id'].isin(sourceIDs)]\n",
    "    source_dict['N of interactive chats'] = len(source_messages_filtered.groupby('conversation_id'))\n",
    "\n",
    "    # How many chats per donation summarized by descriptive stats\n",
    "    chat_counts = source_messages.groupby('donation_id')['conversation_id'].nunique().reset_index()\n",
    "    source_dict['Chats per person Median'] = float(chat_counts['conversation_id'].median())\n",
    "\n",
    "    source_dict['Chats per person STD'] = float(chat_counts['conversation_id'].std())\n",
    "    source_dict['Chats per person Range'] = f'{chat_counts[\"conversation_id\"].min()}-{chat_counts[\"conversation_id\"].max()}'"
   ]
  },
  {
   "cell_type": "code",
   "execution_count": 4,
   "id": "3b3d08af",
   "metadata": {},
   "outputs": [
    {
     "ename": "ValueError",
     "evalue": "time data '2021-12-15 12:37:00' does not match format 'ISO8601' (match)",
     "output_type": "error",
     "traceback": [
      "\u001b[0;31m---------------------------------------------------------------------------\u001b[0m",
      "\u001b[0;31mTypeError\u001b[0m                                 Traceback (most recent call last)",
      "File \u001b[0;32m~/anaconda3/envs/dona-brm/lib/python3.8/site-packages/pandas/core/tools/datetimes.py:510\u001b[0m, in \u001b[0;36m_to_datetime_with_format\u001b[0;34m(arg, orig_arg, name, tz, fmt, exact, errors, infer_datetime_format)\u001b[0m\n\u001b[1;32m    509\u001b[0m \u001b[38;5;28;01mtry\u001b[39;00m:\n\u001b[0;32m--> 510\u001b[0m     values, tz \u001b[38;5;241m=\u001b[39m \u001b[43mconversion\u001b[49m\u001b[38;5;241;43m.\u001b[39;49m\u001b[43mdatetime_to_datetime64\u001b[49m\u001b[43m(\u001b[49m\u001b[43marg\u001b[49m\u001b[43m)\u001b[49m\n\u001b[1;32m    511\u001b[0m     dta \u001b[38;5;241m=\u001b[39m DatetimeArray(values, dtype\u001b[38;5;241m=\u001b[39mtz_to_dtype(tz))\n",
      "File \u001b[0;32m~/anaconda3/envs/dona-brm/lib/python3.8/site-packages/pandas/_libs/tslibs/conversion.pyx:360\u001b[0m, in \u001b[0;36mpandas._libs.tslibs.conversion.datetime_to_datetime64\u001b[0;34m()\u001b[0m\n",
      "\u001b[0;31mTypeError\u001b[0m: Unrecognized value type: <class 'str'>",
      "\nDuring handling of the above exception, another exception occurred:\n",
      "\u001b[0;31mValueError\u001b[0m                                Traceback (most recent call last)",
      "Cell \u001b[0;32mIn[4], line 12\u001b[0m\n\u001b[1;32m     10\u001b[0m donation_messages \u001b[38;5;241m=\u001b[39m source_messages[source_messages[\u001b[38;5;124m'\u001b[39m\u001b[38;5;124mdonation_id\u001b[39m\u001b[38;5;124m'\u001b[39m]\u001b[38;5;241m==\u001b[39mdonationID]\n\u001b[1;32m     11\u001b[0m donation_message_counts\u001b[38;5;241m.\u001b[39mappend(\u001b[38;5;28mlen\u001b[39m(donation_messages))\n\u001b[0;32m---> 12\u001b[0m donation_messages[\u001b[38;5;124m'\u001b[39m\u001b[38;5;124mdatetime\u001b[39m\u001b[38;5;124m'\u001b[39m] \u001b[38;5;241m=\u001b[39m \u001b[43mpd\u001b[49m\u001b[38;5;241;43m.\u001b[39;49m\u001b[43mto_datetime\u001b[49m\u001b[43m(\u001b[49m\u001b[43mdonation_messages\u001b[49m\u001b[43m[\u001b[49m\u001b[38;5;124;43m'\u001b[39;49m\u001b[38;5;124;43mdatetime\u001b[39;49m\u001b[38;5;124;43m'\u001b[39;49m\u001b[43m]\u001b[49m\u001b[43m,\u001b[49m\u001b[38;5;28;43mformat\u001b[39;49m\u001b[38;5;241;43m=\u001b[39;49m\u001b[38;5;124;43m'\u001b[39;49m\u001b[38;5;124;43mISO8601\u001b[39;49m\u001b[38;5;124;43m'\u001b[39;49m\u001b[43m)\u001b[49m\n\u001b[1;32m     13\u001b[0m earliest_date \u001b[38;5;241m=\u001b[39m donation_messages[\u001b[38;5;124m'\u001b[39m\u001b[38;5;124mdatetime\u001b[39m\u001b[38;5;124m'\u001b[39m]\u001b[38;5;241m.\u001b[39mmin()\n\u001b[1;32m     14\u001b[0m latest_date \u001b[38;5;241m=\u001b[39m donation_messages[\u001b[38;5;124m'\u001b[39m\u001b[38;5;124mdatetime\u001b[39m\u001b[38;5;124m'\u001b[39m]\u001b[38;5;241m.\u001b[39mmax()\n",
      "File \u001b[0;32m~/anaconda3/envs/dona-brm/lib/python3.8/site-packages/pandas/core/tools/datetimes.py:1047\u001b[0m, in \u001b[0;36mto_datetime\u001b[0;34m(arg, errors, dayfirst, yearfirst, utc, format, exact, unit, infer_datetime_format, origin, cache)\u001b[0m\n\u001b[1;32m   1045\u001b[0m             result \u001b[38;5;241m=\u001b[39m arg\u001b[38;5;241m.\u001b[39mtz_localize(tz)\n\u001b[1;32m   1046\u001b[0m \u001b[38;5;28;01melif\u001b[39;00m \u001b[38;5;28misinstance\u001b[39m(arg, ABCSeries):\n\u001b[0;32m-> 1047\u001b[0m     cache_array \u001b[38;5;241m=\u001b[39m \u001b[43m_maybe_cache\u001b[49m\u001b[43m(\u001b[49m\u001b[43marg\u001b[49m\u001b[43m,\u001b[49m\u001b[43m \u001b[49m\u001b[38;5;28;43mformat\u001b[39;49m\u001b[43m,\u001b[49m\u001b[43m \u001b[49m\u001b[43mcache\u001b[49m\u001b[43m,\u001b[49m\u001b[43m \u001b[49m\u001b[43mconvert_listlike\u001b[49m\u001b[43m)\u001b[49m\n\u001b[1;32m   1048\u001b[0m     \u001b[38;5;28;01mif\u001b[39;00m \u001b[38;5;129;01mnot\u001b[39;00m cache_array\u001b[38;5;241m.\u001b[39mempty:\n\u001b[1;32m   1049\u001b[0m         result \u001b[38;5;241m=\u001b[39m arg\u001b[38;5;241m.\u001b[39mmap(cache_array)\n",
      "File \u001b[0;32m~/anaconda3/envs/dona-brm/lib/python3.8/site-packages/pandas/core/tools/datetimes.py:197\u001b[0m, in \u001b[0;36m_maybe_cache\u001b[0;34m(arg, format, cache, convert_listlike)\u001b[0m\n\u001b[1;32m    195\u001b[0m unique_dates \u001b[38;5;241m=\u001b[39m unique(arg)\n\u001b[1;32m    196\u001b[0m \u001b[38;5;28;01mif\u001b[39;00m \u001b[38;5;28mlen\u001b[39m(unique_dates) \u001b[38;5;241m<\u001b[39m \u001b[38;5;28mlen\u001b[39m(arg):\n\u001b[0;32m--> 197\u001b[0m     cache_dates \u001b[38;5;241m=\u001b[39m \u001b[43mconvert_listlike\u001b[49m\u001b[43m(\u001b[49m\u001b[43munique_dates\u001b[49m\u001b[43m,\u001b[49m\u001b[43m \u001b[49m\u001b[38;5;28;43mformat\u001b[39;49m\u001b[43m)\u001b[49m\n\u001b[1;32m    198\u001b[0m     cache_array \u001b[38;5;241m=\u001b[39m Series(cache_dates, index\u001b[38;5;241m=\u001b[39munique_dates)\n\u001b[1;32m    199\u001b[0m     \u001b[38;5;66;03m# GH#39882 and GH#35888 in case of None and NaT we get duplicates\u001b[39;00m\n",
      "File \u001b[0;32m~/anaconda3/envs/dona-brm/lib/python3.8/site-packages/pandas/core/tools/datetimes.py:394\u001b[0m, in \u001b[0;36m_convert_listlike_datetimes\u001b[0;34m(arg, format, name, tz, unit, errors, infer_datetime_format, dayfirst, yearfirst, exact)\u001b[0m\n\u001b[1;32m    391\u001b[0m         \u001b[38;5;28mformat\u001b[39m \u001b[38;5;241m=\u001b[39m \u001b[38;5;28;01mNone\u001b[39;00m\n\u001b[1;32m    393\u001b[0m \u001b[38;5;28;01mif\u001b[39;00m \u001b[38;5;28mformat\u001b[39m \u001b[38;5;129;01mis\u001b[39;00m \u001b[38;5;129;01mnot\u001b[39;00m \u001b[38;5;28;01mNone\u001b[39;00m:\n\u001b[0;32m--> 394\u001b[0m     res \u001b[38;5;241m=\u001b[39m \u001b[43m_to_datetime_with_format\u001b[49m\u001b[43m(\u001b[49m\n\u001b[1;32m    395\u001b[0m \u001b[43m        \u001b[49m\u001b[43marg\u001b[49m\u001b[43m,\u001b[49m\u001b[43m \u001b[49m\u001b[43morig_arg\u001b[49m\u001b[43m,\u001b[49m\u001b[43m \u001b[49m\u001b[43mname\u001b[49m\u001b[43m,\u001b[49m\u001b[43m \u001b[49m\u001b[43mtz\u001b[49m\u001b[43m,\u001b[49m\u001b[43m \u001b[49m\u001b[38;5;28;43mformat\u001b[39;49m\u001b[43m,\u001b[49m\u001b[43m \u001b[49m\u001b[43mexact\u001b[49m\u001b[43m,\u001b[49m\u001b[43m \u001b[49m\u001b[43merrors\u001b[49m\u001b[43m,\u001b[49m\u001b[43m \u001b[49m\u001b[43minfer_datetime_format\u001b[49m\n\u001b[1;32m    396\u001b[0m \u001b[43m    \u001b[49m\u001b[43m)\u001b[49m\n\u001b[1;32m    397\u001b[0m     \u001b[38;5;28;01mif\u001b[39;00m res \u001b[38;5;129;01mis\u001b[39;00m \u001b[38;5;129;01mnot\u001b[39;00m \u001b[38;5;28;01mNone\u001b[39;00m:\n\u001b[1;32m    398\u001b[0m         \u001b[38;5;28;01mreturn\u001b[39;00m res\n",
      "File \u001b[0;32m~/anaconda3/envs/dona-brm/lib/python3.8/site-packages/pandas/core/tools/datetimes.py:514\u001b[0m, in \u001b[0;36m_to_datetime_with_format\u001b[0;34m(arg, orig_arg, name, tz, fmt, exact, errors, infer_datetime_format)\u001b[0m\n\u001b[1;32m    512\u001b[0m     \u001b[38;5;28;01mreturn\u001b[39;00m DatetimeIndex\u001b[38;5;241m.\u001b[39m_simple_new(dta, name\u001b[38;5;241m=\u001b[39mname)\n\u001b[1;32m    513\u001b[0m \u001b[38;5;28;01mexcept\u001b[39;00m (\u001b[38;5;167;01mValueError\u001b[39;00m, \u001b[38;5;167;01mTypeError\u001b[39;00m):\n\u001b[0;32m--> 514\u001b[0m     \u001b[38;5;28;01mraise\u001b[39;00m err\n",
      "File \u001b[0;32m~/anaconda3/envs/dona-brm/lib/python3.8/site-packages/pandas/core/tools/datetimes.py:501\u001b[0m, in \u001b[0;36m_to_datetime_with_format\u001b[0;34m(arg, orig_arg, name, tz, fmt, exact, errors, infer_datetime_format)\u001b[0m\n\u001b[1;32m    498\u001b[0m             \u001b[38;5;28;01mreturn\u001b[39;00m _box_as_indexlike(result, utc\u001b[38;5;241m=\u001b[39mutc, name\u001b[38;5;241m=\u001b[39mname)\n\u001b[1;32m    500\u001b[0m     \u001b[38;5;66;03m# fallback\u001b[39;00m\n\u001b[0;32m--> 501\u001b[0m     res \u001b[38;5;241m=\u001b[39m \u001b[43m_array_strptime_with_fallback\u001b[49m\u001b[43m(\u001b[49m\n\u001b[1;32m    502\u001b[0m \u001b[43m        \u001b[49m\u001b[43marg\u001b[49m\u001b[43m,\u001b[49m\u001b[43m \u001b[49m\u001b[43mname\u001b[49m\u001b[43m,\u001b[49m\u001b[43m \u001b[49m\u001b[43mtz\u001b[49m\u001b[43m,\u001b[49m\u001b[43m \u001b[49m\u001b[43mfmt\u001b[49m\u001b[43m,\u001b[49m\u001b[43m \u001b[49m\u001b[43mexact\u001b[49m\u001b[43m,\u001b[49m\u001b[43m \u001b[49m\u001b[43merrors\u001b[49m\u001b[43m,\u001b[49m\u001b[43m \u001b[49m\u001b[43minfer_datetime_format\u001b[49m\n\u001b[1;32m    503\u001b[0m \u001b[43m    \u001b[49m\u001b[43m)\u001b[49m\n\u001b[1;32m    504\u001b[0m     \u001b[38;5;28;01mreturn\u001b[39;00m res\n\u001b[1;32m    506\u001b[0m \u001b[38;5;28;01mexcept\u001b[39;00m \u001b[38;5;167;01mValueError\u001b[39;00m \u001b[38;5;28;01mas\u001b[39;00m err:\n\u001b[1;32m    507\u001b[0m     \u001b[38;5;66;03m# Fallback to try to convert datetime objects if timezone-aware\u001b[39;00m\n\u001b[1;32m    508\u001b[0m     \u001b[38;5;66;03m#  datetime objects are found without passing `utc=True`\u001b[39;00m\n",
      "File \u001b[0;32m~/anaconda3/envs/dona-brm/lib/python3.8/site-packages/pandas/core/tools/datetimes.py:437\u001b[0m, in \u001b[0;36m_array_strptime_with_fallback\u001b[0;34m(arg, name, tz, fmt, exact, errors, infer_datetime_format)\u001b[0m\n\u001b[1;32m    434\u001b[0m utc \u001b[38;5;241m=\u001b[39m tz \u001b[38;5;241m==\u001b[39m \u001b[38;5;124m\"\u001b[39m\u001b[38;5;124mutc\u001b[39m\u001b[38;5;124m\"\u001b[39m\n\u001b[1;32m    436\u001b[0m \u001b[38;5;28;01mtry\u001b[39;00m:\n\u001b[0;32m--> 437\u001b[0m     result, timezones \u001b[38;5;241m=\u001b[39m \u001b[43marray_strptime\u001b[49m\u001b[43m(\u001b[49m\u001b[43marg\u001b[49m\u001b[43m,\u001b[49m\u001b[43m \u001b[49m\u001b[43mfmt\u001b[49m\u001b[43m,\u001b[49m\u001b[43m \u001b[49m\u001b[43mexact\u001b[49m\u001b[38;5;241;43m=\u001b[39;49m\u001b[43mexact\u001b[49m\u001b[43m,\u001b[49m\u001b[43m \u001b[49m\u001b[43merrors\u001b[49m\u001b[38;5;241;43m=\u001b[39;49m\u001b[43merrors\u001b[49m\u001b[43m)\u001b[49m\n\u001b[1;32m    438\u001b[0m     \u001b[38;5;28;01mif\u001b[39;00m \u001b[38;5;124m\"\u001b[39m\u001b[38;5;124m%\u001b[39m\u001b[38;5;124mZ\u001b[39m\u001b[38;5;124m\"\u001b[39m \u001b[38;5;129;01min\u001b[39;00m fmt \u001b[38;5;129;01mor\u001b[39;00m \u001b[38;5;124m\"\u001b[39m\u001b[38;5;124m%\u001b[39m\u001b[38;5;124mz\u001b[39m\u001b[38;5;124m\"\u001b[39m \u001b[38;5;129;01min\u001b[39;00m fmt:\n\u001b[1;32m    439\u001b[0m         \u001b[38;5;28;01mreturn\u001b[39;00m _return_parsed_timezone_results(result, timezones, tz, name)\n",
      "File \u001b[0;32m~/anaconda3/envs/dona-brm/lib/python3.8/site-packages/pandas/_libs/tslibs/strptime.pyx:150\u001b[0m, in \u001b[0;36mpandas._libs.tslibs.strptime.array_strptime\u001b[0;34m()\u001b[0m\n",
      "\u001b[0;31mValueError\u001b[0m: time data '2021-12-15 12:37:00' does not match format 'ISO8601' (match)"
     ]
    }
   ],
   "source": [
    "# Numbers for the second sand third parts of Table 3 \n",
    "for source, source_dict in zip(['WhatsApp','Facebook'],[WhatsApp_info,Facebook_info]):\n",
    "    sourceIDs = donation_table[donation_table['source'] == source]['donation_id']\n",
    "    source_messages = messages_table[messages_table['donation_id'].isin(sourceIDs)]\n",
    "    donation_message_counts = []\n",
    "    donation_spans = [] \n",
    "     \n",
    "    # Here we do calculations for each donation separately to derive sample statistics\n",
    "    for donationID in sourceIDs:\n",
    "        donation_messages = source_messages[source_messages['donation_id']==donationID]\n",
    "        donation_message_counts.append(len(donation_messages))\n",
    "        donation_messages['datetime'] = pd.to_datetime(donation_messages['datetime'],format='ISO8601')\n",
    "        earliest_date = donation_messages['datetime'].min()\n",
    "        latest_date = donation_messages['datetime'].max()\n",
    "        date_difference = (latest_date - earliest_date).days        \n",
    "        donation_spans.append(date_difference)\n",
    "\n",
    "    source_dict['Donation timespan (Days) Median'] = np.median(donation_spans)\n",
    "    source_dict['Donation timespan (Days) STD'] = np.std(donation_spans)\n",
    "    source_dict['Donation timespan (Days) Min'] = np.min(donation_spans)\n",
    "    source_dict['Donation timespan (Days) Max'] = np.max(donation_spans)\n",
    "\n",
    "\n",
    "    source_dict['Donation message count Median'] = np.median(donation_message_counts)\n",
    "    source_dict['Donation message count STD'] = np.std(donation_message_counts)\n",
    "    source_dict['Donation message count Min'] = np.min(donation_message_counts)\n",
    "    source_dict['Donation message count Max'] = np.max(donation_message_counts)\n",
    "\n",
    "    # Save values to a file for later reference in the paper \n",
    "    for key, value in source_dict.items():\n",
    "        try:\n",
    "            value = np.round(value,2)\n",
    "        except:\n",
    "            pass\n",
    "        try:\n",
    "            # Shorten the digits for large numbers\n",
    "            if value > 10000:\n",
    "                value = f'{int(value/1000)}k'\n",
    "                \n",
    "        except:\n",
    "            pass\n",
    "        save_variables(data_reports_fp,f'{source}-{key}',value)\n"
   ]
  },
  {
   "cell_type": "code",
   "execution_count": null,
   "id": "d4989aed",
   "metadata": {},
   "outputs": [],
   "source": [
    "# Print the results\n",
    "WhatsApp_df = pd.DataFrame(WhatsApp_info,index=['WhatsApp'])\n",
    "Facebook_df = pd.DataFrame(Facebook_info,index=['Facebook'])\n",
    "Table_3 = pd.concat([WhatsApp_df,Facebook_df]).T\n",
    "print(Table_3)"
   ]
  }
 ],
 "metadata": {
  "kernelspec": {
   "display_name": "Python 3 (ipykernel)",
   "language": "python",
   "name": "python3"
  },
  "language_info": {
   "codemirror_mode": {
    "name": "ipython",
    "version": 3
   },
   "file_extension": ".py",
   "mimetype": "text/x-python",
   "name": "python",
   "nbconvert_exporter": "python",
   "pygments_lexer": "ipython3",
   "version": "3.8.12"
  },
  "varInspector": {
   "cols": {
    "lenName": 16,
    "lenType": 16,
    "lenVar": 40
   },
   "kernels_config": {
    "python": {
     "delete_cmd_postfix": "",
     "delete_cmd_prefix": "del ",
     "library": "var_list.py",
     "varRefreshCmd": "print(var_dic_list())"
    },
    "r": {
     "delete_cmd_postfix": ") ",
     "delete_cmd_prefix": "rm(",
     "library": "var_list.r",
     "varRefreshCmd": "cat(var_dic_list()) "
    }
   },
   "types_to_exclude": [
    "module",
    "function",
    "builtin_function_or_method",
    "instance",
    "_Feature"
   ],
   "window_display": false
  }
 },
 "nbformat": 4,
 "nbformat_minor": 5
}
