{
 "cells": [
  {
   "cell_type": "markdown",
   "id": "2d8e5e18",
   "metadata": {},
   "source": [
    "## What is this notebook about?\n",
    "The donated data may contain chats without real interactions, e.g. chats on Facebook containing requests, advertisments etc. \n",
    "For this reason, we defined \"interactive chats\" as chats where the ego, i.e. the donor contributes no less than 10% of the text and no more than 90%. This data is available in the data filed `messages_filtered_table.csv` and this is the code used to create that file. You can run the code to double-check our filtering process or skip this notebook and move to the next notebook.\n"
   ]
  },
  {
   "cell_type": "code",
   "execution_count": 1,
   "id": "85edf920",
   "metadata": {},
   "outputs": [],
   "source": [
    "# Some imports to get things started\n",
    "import sys\n",
    "import os\n",
    "import pandas as pd\n",
    "import numpy as np\n",
    "import warnings\n",
    "warnings.filterwarnings(\"ignore\")\n",
    "\n",
    "sys.path.insert(1, os.path.abspath('../'))\n",
    "from pathlib import Path\n"
   ]
  },
  {
   "cell_type": "code",
   "execution_count": 2,
   "id": "3f1b8035",
   "metadata": {},
   "outputs": [],
   "source": [
    "# Load the donation info from the data table\n",
    "donation_fp = Path('../data/donation_table.csv')\n",
    "donation_table = pd.read_csv(donation_fp)\n",
    "\n",
    "# Load the messaging info from the data table\n",
    "message_fp = Path('../data/messages_table.csv')\n",
    "messages_table = pd.read_csv(message_fp)\n",
    "\n",
    "# Filepath for saving the filtering output\n",
    "messages_filtered_fp = Path('../data/messages_filtered_table1.csv')"
   ]
  },
  {
   "cell_type": "code",
   "execution_count": 3,
   "id": "1c01bfcf",
   "metadata": {},
   "outputs": [],
   "source": [
    "def calculate_bias(ego_wc, total_wc):\n",
    "    \"\"\"\n",
    "    Calculate the chat bias by taking the ratio between the words contributed\n",
    "    by ego and alters and subtracting the result from 0.5. This results in values\n",
    "    betweeen -0.5 and 0.5. Zero indicates no bias, while negative and positive \n",
    "    values indicate more ego(donor) and alter(contact) contributions, respectively. \n",
    "    \"\"\"\n",
    "    return np.subtract(0.5,np.divide(ego_wc,total_wc))"
   ]
  },
  {
   "cell_type": "code",
   "execution_count": null,
   "id": "12f14b13",
   "metadata": {},
   "outputs": [],
   "source": [
    "non_interactive_chats = []\n",
    "for donationID in donation_table['donation_id'].values:\n",
    "    # Separate messages associated with a given donation\n",
    "    donation_messages = messages_table[messages_table['donation_id']==donationID]\n",
    "    \n",
    "    # Separate the chats in the donation\n",
    "    chatIDs = donation_messages['conversation_id'].unique()\n",
    "    \n",
    "    # Get the donor_id for the donation to be able to separate the donor messages\n",
    "    egoID = donation_table[donation_table['donation_id']==donationID]['donor_id'].iloc[0]\n",
    "    \n",
    "    for chatID in chatIDs:\n",
    "        chat_messages = donation_messages[donation_messages['conversation_id']==chatID]\n",
    "        ego_chat_messages = chat_messages[chat_messages['sender_id']==egoID]\n",
    "        \n",
    "        # Calculate the chat bias to identify chats where ego contributes <10% or >90% of messages\n",
    "        chat_bias = calculate_bias(ego_chat_messages['word_count'].sum(),chat_messages['word_count'].sum())\n",
    "        if chat_bias <-0.4 or chat_bias>0.4:\n",
    "            non_interactive_chats.append(chatID)\n",
    "            \n",
    "# Drop the non_interactive chats and save the filtered messages to a file           \n",
    "messages_filtered =  messages_table[~messages_table['conversation_id'].isin(non_interactive_chats)] \n",
    "messages_filtered.to_csv(messages_filtered_fp)"
   ]
  },
  {
   "cell_type": "markdown",
   "id": "f6449c19",
   "metadata": {},
   "source": [
    "### The re-created file with the filtered messages is now stored in the data folder under ```messages_filtered_table1.csv```. "
   ]
  }
 ],
 "metadata": {
  "kernelspec": {
   "display_name": "Python 3 (ipykernel)",
   "language": "python",
   "name": "python3"
  },
  "language_info": {
   "codemirror_mode": {
    "name": "ipython",
    "version": 3
   },
   "file_extension": ".py",
   "mimetype": "text/x-python",
   "name": "python",
   "nbconvert_exporter": "python",
   "pygments_lexer": "ipython3",
   "version": "3.8.12"
  },
  "varInspector": {
   "cols": {
    "lenName": 16,
    "lenType": 16,
    "lenVar": 40
   },
   "kernels_config": {
    "python": {
     "delete_cmd_postfix": "",
     "delete_cmd_prefix": "del ",
     "library": "var_list.py",
     "varRefreshCmd": "print(var_dic_list())"
    },
    "r": {
     "delete_cmd_postfix": ") ",
     "delete_cmd_prefix": "rm(",
     "library": "var_list.r",
     "varRefreshCmd": "cat(var_dic_list()) "
    }
   },
   "types_to_exclude": [
    "module",
    "function",
    "builtin_function_or_method",
    "instance",
    "_Feature"
   ],
   "window_display": false
  }
 },
 "nbformat": 4,
 "nbformat_minor": 5
}
