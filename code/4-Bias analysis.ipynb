{
 "cells": [
  {
   "cell_type": "markdown",
   "id": "37556fee",
   "metadata": {},
   "source": [
    "## What is this notebook about?\n",
    "\n",
    "This notebook was used to create ```Fig.4A```,```Fig.C1``` and the analyis numbers referenced in the text.\n",
    "\n",
    "The numbers calculated here and other notebooks will be stored under the filepath indicated by the variable `data_reports_fp` for future reference."
   ]
  },
  {
   "cell_type": "code",
   "execution_count": null,
   "id": "4b298d05",
   "metadata": {},
   "outputs": [],
   "source": [
    "# Some imports to get things started\n",
    "import sys\n",
    "import os\n",
    "import pandas as pd\n",
    "import numpy as np\n",
    "import matplotlib.pyplot as plt\n",
    "\n",
    "import warnings\n",
    "warnings.filterwarnings('ignore')\n",
    "\n",
    "sys.path.insert(1, os.path.abspath('/..'))\n",
    "from utils import set_aspect,save_descriptive_stats\n",
    "from pathlib import Path"
   ]
  },
  {
   "cell_type": "code",
   "execution_count": null,
   "id": "25746522",
   "metadata": {},
   "outputs": [],
   "source": [
    "# Load the donation info from the data dable\n",
    "donation_table = pd.read_csv(Path('../data/donation_table.csv'))\n",
    "\n",
    "# Load messages including those from non-interactive chats\n",
    "messages_table = pd.read_csv(Path('../data/messages_table.csv'))\n",
    "\n",
    "# Load filtered messages only from interactive chats\n",
    "messages_filtered_table = pd.read_csv(Path('../data/messages_filtered_table.csv'))\n",
    "\n",
    "# Load the quesionnaire answers \n",
    "survey_info = pd.read_excel(Path('../data/survey.xlsx'))\n",
    "\n",
    "# Where to save numbers from the analysis\n",
    "data_reports_fp = Path('../reports/numbers.dat')\n",
    "\n",
    "# Where to save figures from the analysis\n",
    "figpath = Path('../reports')\n",
    "\n",
    "# Which colors to use to plot data from different messengers\n",
    "WhatsApp_color = '#3dc24f'\n",
    "Facebook_color = '#385999'"
   ]
  },
  {
   "cell_type": "code",
   "execution_count": null,
   "id": "4904a01a",
   "metadata": {},
   "outputs": [],
   "source": [
    "def calculate_bias(ego_wc, total_wc):\n",
    "    \"\"\"\n",
    "    Calculate the chat bias by taking the ratio between the words contributed\n",
    "    by ego and alters and subtracting the result from 0.5. This results in values\n",
    "    betweeen -0.5 and 0.5. Zero indicates no bias, while negative and positive \n",
    "    values indicate more ego(donor) and alter(contact) contributions, respectively. \n",
    "    \"\"\"\n",
    "    return np.subtract(0.5,np.divide(ego_wc,total_wc))"
   ]
  },
  {
   "cell_type": "code",
   "execution_count": null,
   "id": "f1929b5a",
   "metadata": {},
   "outputs": [],
   "source": [
    "all_biases = []\n",
    "exampleIDs = ['d119b841-c699-498b-8e9d-498fb99c941e',\n",
    "              'e1c1129f-42d2-4d50-a4fb-27168db1a261','5b56ab78-7f25-4270-b0cf-1d87f383cab0']\n",
    "\n",
    "for source,color in zip(['WhatsApp','Facebook'],[WhatsApp_color,Facebook_color]):\n",
    "    sourceIDs = donation_table[donation_table['source'] == source]['donation_id']\n",
    "    source_biases = []\n",
    "    source_interactive = []\n",
    "    for donationID in sourceIDs:\n",
    "        # Get the donor_id for the donation to be able to separate the donor messages\n",
    "        egoID = donation_table[donation_table['donation_id']==donationID]['donor_id'].iloc[0]\n",
    "        \n",
    "        # Separate messages for a given dontion\n",
    "        donation_messages = messages_filtered_table[messages_filtered_table['donation_id']==donationID]\n",
    "        \n",
    "        # Get chatIDs in a given donation\n",
    "        chatIDs = donation_messages['conversation_id'].unique()\n",
    "        \n",
    "        # Calculate the share of interactive chats by taking the ratio between the filtered and unfiltered chats\n",
    "        unfiltered_messages = messages_table[messages_table['donation_id']==donationID]\n",
    "        chats_unfiltered = unfiltered_messages['conversation_id'].unique()\n",
    "        source_interactive.append(len(chatIDs)/len(chats_unfiltered))\n",
    "        \n",
    "        chat_biases = []\n",
    "        for chatID in chatIDs:\n",
    "            # Separate messages in a given chat\n",
    "            chat_messages = donation_messages[donation_messages['conversation_id']==chatID]\n",
    "            \n",
    "            # Separate messages sent by the donor\n",
    "            ego_chat_messages = chat_messages[chat_messages['sender_id']==egoID]\n",
    "            \n",
    "            # Calculate the chat bias\n",
    "            chat_bias = calculate_bias(ego_chat_messages['word_count'].sum(),chat_messages['word_count'].sum())\n",
    "            chat_biases.append(chat_bias)\n",
    "            \n",
    "        # Create example plots for bias distributions for 3 donors (Fig C1)\n",
    "        if donationID in exampleIDs:\n",
    "            \n",
    "            fig,ax = plt.subplots()\n",
    "            ax.hist(chat_biases,color=color,edgecolor='k')\n",
    "            ax.set_xlabel('Bias',fontsize=16)\n",
    "            ax.set_ylabel('Chats',fontsize=16)\n",
    "            ax.tick_params(axis='both', which='major', labelsize=14)\n",
    "            ax.set_title(f'{source} participant',fontsize=16)\n",
    "            ax.set_xlim(-0.5,0.5)\n",
    "            set_aspect(ax)\n",
    "            fig.patch.set_facecolor('white')\n",
    "            fig.savefig(Path(f'{figpath}/bias-{donationID}.png'),dpi=500)\n",
    "            \n",
    "        # Save values for calculating sample stats    \n",
    "        source_biases.append(np.median(chat_biases))\n",
    "        all_biases.append(np.median(chat_biases))\n",
    "        \n",
    "    # Calculate and save sample stats of the median biases for each source\n",
    "    save_descriptive_stats(data_reports_fp,f'{source}-medians',source_biases)\n",
    "    \n",
    "    # Calculate and save the sample stats of interactive chats for each source\n",
    "    save_descriptive_stats(data_reports_fp,f'{source}_interactive_share',source_interactive)\n",
    "\n",
    "# Calculate and save save sample stats of the median biases for both sources\n",
    "save_descriptive_stats(data_reports_fp,f'all-medians',all_biases)"
   ]
  },
  {
   "cell_type": "code",
   "execution_count": null,
   "id": "3773854a",
   "metadata": {},
   "outputs": [],
   "source": [
    "# Plot Fig. 4B\n",
    "fig, ax = plt.subplots()\n",
    "all_biases = [np.round(item, 2) for item in all_biases] # this is not really necessary but results in the exact same figure as in the paper\n",
    "ax.hist(all_biases,color='gray',edgecolor='black')\n",
    "ax.set_xlabel('Median bias (b)', fontsize=16)\n",
    "ax.set_ylabel('Participants', fontsize=16)\n",
    "ax.set_xlim(-0.5,0.5)\n",
    "ax.tick_params(axis='both', which='major', labelsize=14)\n",
    "set_aspect(ax)\n",
    "fig.patch.set_facecolor('white')\n",
    "fig.savefig(Path(f'{figpath}/bias-medians-hist.png'),dpi=500)\n",
    "fig.savefig(Path(f'{figpath}/bias-medians-hist.svg'),dpi=500)"
   ]
  }
 ],
 "metadata": {
  "kernelspec": {
   "display_name": "Python 3 (ipykernel)",
   "language": "python",
   "name": "python3"
  },
  "language_info": {
   "codemirror_mode": {
    "name": "ipython",
    "version": 3
   },
   "file_extension": ".py",
   "mimetype": "text/x-python",
   "name": "python",
   "nbconvert_exporter": "python",
   "pygments_lexer": "ipython3",
   "version": "3.8.12"
  },
  "varInspector": {
   "cols": {
    "lenName": 16,
    "lenType": 16,
    "lenVar": 40
   },
   "kernels_config": {
    "python": {
     "delete_cmd_postfix": "",
     "delete_cmd_prefix": "del ",
     "library": "var_list.py",
     "varRefreshCmd": "print(var_dic_list())"
    },
    "r": {
     "delete_cmd_postfix": ") ",
     "delete_cmd_prefix": "rm(",
     "library": "var_list.r",
     "varRefreshCmd": "cat(var_dic_list()) "
    }
   },
   "types_to_exclude": [
    "module",
    "function",
    "builtin_function_or_method",
    "instance",
    "_Feature"
   ],
   "window_display": false
  }
 },
 "nbformat": 4,
 "nbformat_minor": 5
}
