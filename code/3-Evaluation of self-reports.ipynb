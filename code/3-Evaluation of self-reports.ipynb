{
 "cells": [
  {
   "cell_type": "markdown",
   "id": "c188a115",
   "metadata": {},
   "source": [
    "## What is this notebook about?\n",
    "\n",
    "This notebook was used to create ```Fig.3```, ```Table B2``` in the appendix and the analyis numbers of the self-assessments referenced in the text.\n",
    "\n",
    "The numbers calculated here and other notebooks will be stored under the filepath indicated by the variable `data_reports_fp` for future reference."
   ]
  },
  {
   "cell_type": "code",
   "execution_count": null,
   "id": "8a2edc05",
   "metadata": {},
   "outputs": [],
   "source": [
    "# Some imports to get things started\n",
    "import sys\n",
    "import os\n",
    "import pandas as pd\n",
    "import numpy as np\n",
    "import matplotlib.pyplot as plt\n",
    "\n",
    "import warnings\n",
    "warnings.filterwarnings(\"ignore\")\n",
    "\n",
    "sys.path.insert(1, os.path.abspath('../'))\n",
    "from utils import set_aspect,save_descriptive_stats, save_variables\n",
    "from pathlib import Path"
   ]
  },
  {
   "cell_type": "code",
   "execution_count": null,
   "id": "59edf645",
   "metadata": {},
   "outputs": [],
   "source": [
    "# Load the questionnaire answers \n",
    "survey_info = pd.read_excel(Path('../data/survey.xlsx'))\n",
    "\n",
    "# Turn the upper and lower scale labels into numerical values\n",
    "survey_info.replace({'Disagree strongly = 1': 1, 'Agree strongly = 7': 7, 'No answer': np.nan}, inplace=True)\n",
    "\n",
    "# Where to save numbers from the analysis\n",
    "data_reports_fp = Path('../reports/numbers.dat')\n",
    "\n",
    "# Where to save figures from the analysis\n",
    "figpath = Path('../reports')"
   ]
  },
  {
   "cell_type": "markdown",
   "id": "58e4d034",
   "metadata": {},
   "source": [
    "## Perceived impact - Fig. 3A"
   ]
  },
  {
   "cell_type": "code",
   "execution_count": null,
   "id": "6b55467b",
   "metadata": {},
   "outputs": [],
   "source": [
    "# DataFrame columns associated with Perceived impact\n",
    "columns = ['Informativeness','Better understanding','Attitude change','Increase frequency','Decrease frequency']\n",
    "\n",
    "# Aspects that are summarized on the plot\n",
    "plot_columns = ['Informativeness','Better understanding','Attitude change']\n",
    "\n",
    "# Getting started for the plot\n",
    "fig, ax = plt.subplots(figsize=(6,6))\n",
    "positions = np.arange(len(plot_columns))\n",
    "\n",
    "for ind,col in enumerate(columns):\n",
    "    data = survey_info[col].dropna().values\n",
    "    save_descriptive_stats(data_reports_fp,col,data)\n",
    "    if col in plot_columns:\n",
    "        x = positions[ind] # position of the boxplot\n",
    "        box_negative = ax.boxplot(data,positions=[x],sym = 'D',\n",
    "                                  patch_artist=True,widths=0.4,boxprops=dict(facecolor='gray',alpha=.8))\n",
    "\n",
    "        # Plot the data points as small dots\n",
    "        for median in box_negative['medians']:\n",
    "            median.set_color('black')\n",
    "        data = pd.Series(data)\n",
    "        unique_values = data.value_counts()\n",
    "        for item in unique_values.index:\n",
    "            sign = 1\n",
    "            for i in range(unique_values[item]):\n",
    "                ax.plot(x+sign*i*0.01,item,'k.', markersize=4)\n",
    "                sign = sign*-1\n",
    "                \n",
    "    ax.set_ylabel('Score',fontsize=22)\n",
    "    ax.set_xticks(positions)\n",
    "    ax.set_xticklabels(['Information','Understanding','Attitude \\n change'],rotation=25)\n",
    "    ax.tick_params(axis='both', which='major', labelsize=22)\n",
    "    ax.set_ylim(0,7.1)\n",
    "    set_aspect(ax)\n",
    "    fig.patch.set_facecolor('white')\n",
    "    fig.savefig(Path(f'{figpath}/perceived-impact.svg'),dpi=500,bbox_inches = 'tight')\n",
    "    fig.savefig(Path(f'{figpath}/perceived-impact.png'),dpi=500,bbox_inches = 'tight')\n"
   ]
  },
  {
   "cell_type": "markdown",
   "id": "9fc187ee",
   "metadata": {},
   "source": [
    "## User experience -  Fig. 3B,Table B2,"
   ]
  },
  {
   "cell_type": "code",
   "execution_count": null,
   "id": "c9fc42fc",
   "metadata": {},
   "outputs": [],
   "source": [
    "# DataFrame columns associated with user experience evaluation separated by pragmatic and hedonic qualities\n",
    "pragmatic = ['Obstructive|Supportive','Complicated|Easy','Inefficient|Efficient','Confusing|Clear']\n",
    "hedonic = ['Boring|Exciting','Not interesting|Interesting','Conventional|Inventive','Usual|Leading edge']\n",
    "columns = pragmatic+hedonic\n",
    "pragmatic_values = []\n",
    "hedonic_values = []\n",
    "\n",
    "for ind,col in enumerate(columns):\n",
    "    data = survey_info[col].dropna().values\n",
    "    save_descriptive_stats(data_reports_fp,col,data)\n",
    "    if col in pragmatic:\n",
    "       pragmatic_values.append(data)\n",
    "    elif col in hedonic:\n",
    "        hedonic_values.append(data)\n",
    "        \n",
    " # Use the means of the different qualities for aggregated pragmatic, hedonic and overall scores     \n",
    "pragmatic_scores = np.mean(pragmatic_values,axis=0)\n",
    "hedonic_scores = np.mean(hedonic_values, axis=0)\n",
    "overall_scores = np.mean(pragmatic_values+hedonic_values,axis=0)"
   ]
  },
  {
   "cell_type": "code",
   "execution_count": null,
   "id": "283ac0b4",
   "metadata": {},
   "outputs": [],
   "source": [
    "# Plotting the boxplot of Figure 3B\n",
    "positions = np.arange(len(plot_columns))\n",
    "labels = ['Pragmatic','Hedonic','Overall']\n",
    "fig, ax = plt.subplots(figsize=(4,4))\n",
    "\n",
    "for ind,(data,label) in enumerate(zip([pragmatic_scores,hedonic_scores,overall_scores],labels)):\n",
    "    save_descriptive_stats(data_reports_fp,label,data)\n",
    "    x = positions[ind] # position of the boxplot\n",
    "    box_negative = ax.boxplot(data,positions=[x],sym = 'D',\n",
    "                      patch_artist=True,widths=0.4,boxprops=dict(facecolor='gray',alpha=.8))\n",
    "\n",
    "    # Plot the data points as small dots \n",
    "    for median in box_negative['medians']:\n",
    "        median.set_color('black')\n",
    "    data = pd.Series(data)\n",
    "    unique_values = data.value_counts()\n",
    "    for item in unique_values.index:\n",
    "        sign = 1\n",
    "        for i in range(unique_values[item]):\n",
    "            ax.plot(x+sign*i*0.01,item,'k.', markersize=2)\n",
    "            sign = sign*-1\n",
    "            \n",
    "    ax.set_ylabel('Score',fontsize=22)\n",
    "    ax.set_xticks(positions)\n",
    "    ax.set_xticklabels(labels)\n",
    "    ax.tick_params(axis='both', which='major', labelsize=14)\n",
    "    ax.set_ylim(0,105)\n",
    "    set_aspect(ax)\n",
    "    fig.patch.set_facecolor('white')\n",
    "    fig.savefig(Path(f'{figpath}/UEQ.svg'),dpi=500)\n",
    "    fig.savefig(Path(f'{figpath}/UEQ.png'),dpi=500)\n",
    "\n"
   ]
  },
  {
   "cell_type": "markdown",
   "id": "b0831162",
   "metadata": {},
   "source": [
    "## Relation to life events - Fig. 3C"
   ]
  },
  {
   "cell_type": "code",
   "execution_count": null,
   "id": "cfb23948",
   "metadata": {},
   "outputs": [],
   "source": [
    "# Separate positive and negative responses\n",
    "\n",
    "yes_option = 'I could recognize changes of my messaging behavior over time.'\n",
    "no_option = 'I could not recognize any changes of my messaging behavior over time.'\n",
    "yes_responses = survey_info[survey_info['Recognized behavior changes']==yes_option]\n",
    "no_responses = len(survey_info[survey_info['Recognized behavior changes']==no_option])\n",
    "\n",
    "# Separate positive and negative responses to the relation to life events\n",
    "life_relation_yes= 'I was able to relate these changes to relevant events in my life.'\n",
    "life_relation_no = 'I was not able to relate these changes to relevant events in my life.'\n",
    "life_relation = len(yes_responses[yes_responses['Life event relation']==life_relation_yes])\n",
    "no_life_relation = len(yes_responses[yes_responses['Life event relation']==life_relation_no])\n",
    "\n",
    "\n",
    "yes_color = '#537BBE'\n",
    "no_color = '#E41D25'\n",
    "no_memory_alpha = 0.5\n",
    "\n",
    "\n",
    "fig, ax = plt.subplots(figsize=(4,10))\n",
    "ax.bar(0,no_responses,color=no_color)\n",
    "ax.bar(1,life_relation,color=yes_color)\n",
    "ax.bar(1,no_life_relation, color=yes_color,alpha=no_memory_alpha, bottom=life_relation-0.05)\n",
    "ax.set_ylabel('Participants',fontsize=18)\n",
    "ax.set_xticks([0,1])\n",
    "ax.set_xticklabels(['No changes \\n recognized','Recognized \\n changes'])\n",
    "y_ticks = [int(item) for item in ax.get_yticks()]\n",
    "ax.set_yticks(y_ticks)\n",
    "ax.tick_params(axis='both', which='major', labelsize=16)\n",
    "set_aspect(ax)\n",
    "fig.savefig(Path(f'{figpath}/observed-changes.svg'),dpi=500,bbox_inches='tight')\n",
    "fig.savefig(Path(f'{figpath}/observed-changes.png'),dpi=500,bbox_inches='tight')\n",
    "\n",
    "save_variables(data_reports_fp,'N_no_changes_recognized',no_responses)\n",
    "save_variables(data_reports_fp,'N_changes_recognized',len(yes_responses))\n",
    "save_variables(data_reports_fp,'N_no_relation_recognized',no_life_relation)\n",
    "save_variables(data_reports_fp,'N_relation_recognized',life_relation)\n"
   ]
  },
  {
   "cell_type": "markdown",
   "id": "26d027fd",
   "metadata": {},
   "source": [
    "## Scores on whether the participants would recommend the study"
   ]
  },
  {
   "cell_type": "code",
   "execution_count": null,
   "id": "e28392b9",
   "metadata": {},
   "outputs": [],
   "source": [
    "recommending = survey_info['Recommendation score']\n",
    "save_descriptive_stats(data_reports_fp,'recommendation-score',recommending)\n"
   ]
  }
 ],
 "metadata": {
  "kernelspec": {
   "display_name": "Python 3 (ipykernel)",
   "language": "python",
   "name": "python3"
  },
  "language_info": {
   "codemirror_mode": {
    "name": "ipython",
    "version": 3
   },
   "file_extension": ".py",
   "mimetype": "text/x-python",
   "name": "python",
   "nbconvert_exporter": "python",
   "pygments_lexer": "ipython3",
   "version": "3.8.12"
  },
  "varInspector": {
   "cols": {
    "lenName": 16,
    "lenType": 16,
    "lenVar": 40
   },
   "kernels_config": {
    "python": {
     "delete_cmd_postfix": "",
     "delete_cmd_prefix": "del ",
     "library": "var_list.py",
     "varRefreshCmd": "print(var_dic_list())"
    },
    "r": {
     "delete_cmd_postfix": ") ",
     "delete_cmd_prefix": "rm(",
     "library": "var_list.r",
     "varRefreshCmd": "cat(var_dic_list()) "
    }
   },
   "types_to_exclude": [
    "module",
    "function",
    "builtin_function_or_method",
    "instance",
    "_Feature"
   ],
   "window_display": false
  }
 },
 "nbformat": 4,
 "nbformat_minor": 5
}
