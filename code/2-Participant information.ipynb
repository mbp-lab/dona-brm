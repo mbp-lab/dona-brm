{
 "cells": [
  {
   "cell_type": "markdown",
   "id": "ff76aaf1",
   "metadata": {},
   "source": [
    "## What is this notebook about?\n",
    "\n",
    "Here, we analyse the sociodemographic information of the study participans. \n",
    "\n",
    "The numbers calculated here and other notebooks will be stored under the filepath indicated by the variable `data_reports_path` for future reference."
   ]
  },
  {
   "cell_type": "code",
   "execution_count": 1,
   "id": "b739523a",
   "metadata": {},
   "outputs": [],
   "source": [
    "# Some imports to get things started\n",
    "import sys\n",
    "import os\n",
    "import pandas as pd\n",
    "import numpy as np\n",
    "import warnings\n",
    "warnings.filterwarnings('ignore')\n",
    "\n",
    "sys.path.insert(1, os.path.abspath('../'))\n",
    "from utils import save_descriptive_stats, save_variables\n",
    "from pathlib import Path"
   ]
  },
  {
   "cell_type": "code",
   "execution_count": 2,
   "id": "939148d6",
   "metadata": {},
   "outputs": [],
   "source": [
    "# Load the questionnaire answers \n",
    "survey_info = pd.read_excel(Path('../data/survey.xlsx'))\n",
    "\n",
    "# Where to save numbers from the analysis\n",
    "data_reports_fp = Path('../reports/numbers.dat')"
   ]
  },
  {
   "cell_type": "code",
   "execution_count": 3,
   "id": "eddd8336",
   "metadata": {},
   "outputs": [],
   "source": [
    "# Save descriptive statistics about participant age\n",
    "save_descriptive_stats(Path(data_reports_fp),'age',survey_info['age'].values)"
   ]
  },
  {
   "cell_type": "code",
   "execution_count": 4,
   "id": "90e49916",
   "metadata": {},
   "outputs": [],
   "source": [
    "# Save frequency of each indicated gender in the sample\n",
    "gender_counts = survey_info['gender'].value_counts()\n",
    "for key in gender_counts.keys():\n",
    "    save_variables(Path(data_reports_fp),f'gender_{key}',gender_counts[key])"
   ]
  },
  {
   "cell_type": "code",
   "execution_count": 5,
   "id": "53559e16",
   "metadata": {},
   "outputs": [],
   "source": [
    "# Save status of education \n",
    "higher_education = ['Bachelor (or comparable)','Master (or comparable)','Doctoral degree','Bachelor (or equivalent)','Master (or equivalent)']\n",
    "higher_education_count = len(survey_info[survey_info.education.isin(higher_education)])\n",
    "save_variables(Path(data_reports_fp),f'higher_education',higher_education_count)"
   ]
  },
  {
   "cell_type": "code",
   "execution_count": 6,
   "id": "70a5bb5e",
   "metadata": {},
   "outputs": [],
   "source": [
    "# Save status of employment\n",
    "employment_counts = survey_info['employed'].value_counts()\n",
    "for key in employment_counts.keys():\n",
    "    save_variables(Path(data_reports_fp),f'employed_{key}',employment_counts[key])"
   ]
  }
 ],
 "metadata": {
  "kernelspec": {
   "display_name": "Python 3 (ipykernel)",
   "language": "python",
   "name": "python3"
  },
  "language_info": {
   "codemirror_mode": {
    "name": "ipython",
    "version": 3
   },
   "file_extension": ".py",
   "mimetype": "text/x-python",
   "name": "python",
   "nbconvert_exporter": "python",
   "pygments_lexer": "ipython3",
   "version": "3.12.4"
  },
  "varInspector": {
   "cols": {
    "lenName": 16,
    "lenType": 16,
    "lenVar": 40
   },
   "kernels_config": {
    "python": {
     "delete_cmd_postfix": "",
     "delete_cmd_prefix": "del ",
     "library": "var_list.py",
     "varRefreshCmd": "print(var_dic_list())"
    },
    "r": {
     "delete_cmd_postfix": ") ",
     "delete_cmd_prefix": "rm(",
     "library": "var_list.r",
     "varRefreshCmd": "cat(var_dic_list()) "
    }
   },
   "types_to_exclude": [
    "module",
    "function",
    "builtin_function_or_method",
    "instance",
    "_Feature"
   ],
   "window_display": false
  }
 },
 "nbformat": 4,
 "nbformat_minor": 5
}
