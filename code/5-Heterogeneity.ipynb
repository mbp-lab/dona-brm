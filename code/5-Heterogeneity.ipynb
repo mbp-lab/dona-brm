{
 "cells": [
  {
   "cell_type": "markdown",
   "id": "33614789",
   "metadata": {},
   "source": [
    "## What is this notebook about?\n",
    "\n",
    "This notebook was used to create ```Fig.4B``` and the analyis numbers of the self-assessments referenced in the text.\n",
    "\n",
    "The numbers calculated here and other notebooks will be stored under the filepath indicated by the variable `data_reports_fp` for future reference."
   ]
  },
  {
   "cell_type": "code",
   "execution_count": null,
   "id": "94038db7",
   "metadata": {},
   "outputs": [],
   "source": [
    "# Some imports to get things started\n",
    "import sys\n",
    "import os\n",
    "import pandas as pd\n",
    "import numpy as np\n",
    "import matplotlib.pyplot as plt\n",
    "\n",
    "import warnings\n",
    "warnings.filterwarnings('ignore')\n",
    "\n",
    "sys.path.insert(1, os.path.abspath('/..'))\n",
    "from utils import set_aspect,save_descriptive_stats\n",
    "from pathlib import Path"
   ]
  },
  {
   "cell_type": "code",
   "execution_count": null,
   "id": "2d35f7f9",
   "metadata": {},
   "outputs": [],
   "source": [
    "# Load the donation info from the data table\n",
    "donation_table = pd.read_csv(Path('../data/donation_table.csv'))\n",
    "\n",
    "# Load messages including those from non-interactive chats\n",
    "messages_table = pd.read_csv(Path('../data/messages_table.csv'))\n",
    "\n",
    "# Load filtered messages only from interactive chats\n",
    "messages_filtered_table = pd.read_csv(Path('../data/messages_filtered_table.csv'))\n",
    "\n",
    "# Load the questionnaire answers \n",
    "survey_info = pd.read_excel(Path('../data/survey.xlsx'))\n",
    "\n",
    "# Where to save numbers from the analysis\n",
    "data_reports_fp = Path('../reports/numbers.dat')\n",
    "\n",
    "# Where to save figures from the analysis\n",
    "figpath = Path('../reports')\n"
   ]
  },
  {
   "cell_type": "code",
   "execution_count": null,
   "id": "ac73eb69",
   "metadata": {},
   "outputs": [],
   "source": [
    "def calculate_gini(intensity):\n",
    "    \"\"\"\n",
    "    Calculate the gini index of an array.  \n",
    "    Parameters\n",
    "    ----------\n",
    "    intensity : array-like\n",
    "        the intensity of interactions (e.g. total words exchanged).\n",
    "\n",
    "    Returns\n",
    "    -------\n",
    "    index : float\n",
    "        gini index.\n",
    "\n",
    "    \"\"\"\n",
    "    k = len(intensity)\n",
    "    intensity = sorted(intensity)\n",
    "    product = []\n",
    "    for ind,item in enumerate(intensity):\n",
    "        product.append(item*(ind+1))\n",
    "    index = (2*np.sum(product)/(k*np.sum(intensity)))-((k+1)/k)\n",
    "    return index\n"
   ]
  },
  {
   "cell_type": "code",
   "execution_count": null,
   "id": "9d2a6014",
   "metadata": {},
   "outputs": [],
   "source": [
    "all_ginis = []\n",
    "for source in ['WhatsApp','Facebook']:\n",
    "    sourceIDs = donation_table[donation_table['source'] == source]['donation_id']\n",
    "    source_ginis = []\n",
    "    for donationID in sourceIDs:\n",
    "        # Get the donor_id for the donation to be able to separate the donor messages\n",
    "        egoID = donation_table[donation_table['donation_id']==donationID]['donor_id'].iloc[0]    \n",
    "        \n",
    "        # Separate the donor messages\n",
    "        ego_messages = messages_filtered_table[messages_filtered_table['sender_id'] == egoID]\n",
    "        # Now per chat\n",
    "        ego_messages_per_chat = ego_messages.groupby('conversation_id').sum()\n",
    "        # Calculate the Gini index for the ego\n",
    "        gini = calculate_gini(ego_messages_per_chat['word_count'].values)\n",
    "        \n",
    "        # Append for calculating sample stats\n",
    "        all_ginis.append(gini)\n",
    "        source_ginis.append(gini)\n",
    "    # Calculate and save sample stats for the source\n",
    "    save_descriptive_stats(data_reports_fp,f'{source}_gini',source_ginis)\n",
    "    \n",
    "# Calculate and save sample stats for the pooled values from both sources\n",
    "save_descriptive_stats(data_reports_fp,'all_gini',all_ginis)"
   ]
  },
  {
   "cell_type": "code",
   "execution_count": null,
   "id": "5ab80d62",
   "metadata": {},
   "outputs": [],
   "source": [
    "# Plot Fig. 4B\n",
    "fig, ax = plt.subplots()\n",
    "ax.hist(all_ginis,color='gray',edgecolor='black')\n",
    "ax.set_xlabel('Gini', fontsize=16)\n",
    "ax.set_ylabel('Participants', fontsize=16)\n",
    "ax.set_xlim(0,1)\n",
    "ax.tick_params(axis='both', which='major', labelsize=14)\n",
    "set_aspect(ax)\n",
    "fig.patch.set_facecolor('white')\n",
    "fig.savefig(Path(f'{figpath}/gini-hist.svg'),dpi=500)\n",
    "fig.savefig(Path(f'{figpath}/gini-hist.png'),dpi=500)"
   ]
  }
 ],
 "metadata": {
  "kernelspec": {
   "display_name": "Python 3 (ipykernel)",
   "language": "python",
   "name": "python3"
  },
  "language_info": {
   "codemirror_mode": {
    "name": "ipython",
    "version": 3
   },
   "file_extension": ".py",
   "mimetype": "text/x-python",
   "name": "python",
   "nbconvert_exporter": "python",
   "pygments_lexer": "ipython3",
   "version": "3.8.12"
  },
  "varInspector": {
   "cols": {
    "lenName": 16,
    "lenType": 16,
    "lenVar": 40
   },
   "kernels_config": {
    "python": {
     "delete_cmd_postfix": "",
     "delete_cmd_prefix": "del ",
     "library": "var_list.py",
     "varRefreshCmd": "print(var_dic_list())"
    },
    "r": {
     "delete_cmd_postfix": ") ",
     "delete_cmd_prefix": "rm(",
     "library": "var_list.r",
     "varRefreshCmd": "cat(var_dic_list()) "
    }
   },
   "types_to_exclude": [
    "module",
    "function",
    "builtin_function_or_method",
    "instance",
    "_Feature"
   ],
   "window_display": false
  }
 },
 "nbformat": 4,
 "nbformat_minor": 5
}
