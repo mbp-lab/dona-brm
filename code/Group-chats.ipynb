{
 "cells": [
  {
   "cell_type": "code",
   "execution_count": 1,
   "id": "0dd321d9-4e2d-4f24-98e3-1fa50cd2086a",
   "metadata": {},
   "outputs": [],
   "source": [
    "# Some imports to get things started\n",
    "import sys\n",
    "import os\n",
    "import pandas as pd\n",
    "import numpy as np\n",
    "import matplotlib.pyplot as plt\n",
    "\n",
    "import warnings\n",
    "warnings.filterwarnings(\"ignore\")\n",
    "sys.path.insert(1, os.path.abspath('../'))\n",
    "from utils import set_aspect,save_descriptive_stats, save_variables\n",
    "from pathlib import Path"
   ]
  },
  {
   "cell_type": "code",
   "execution_count": 2,
   "id": "76a0a5c5-e7b7-48ce-91c4-a5e82ff70335",
   "metadata": {},
   "outputs": [],
   "source": [
    "# Load the donation info from the data dable\n",
    "donation_table = pd.read_csv(Path('../data/donation_table.csv'))\n",
    "\n",
    "# Load messages including those from non-interactive chats\n",
    "messages_table = pd.read_csv(Path('../data/messages_table.csv'))\n",
    "\n",
    "# Load filtered messages only from interactive chats\n",
    "messages_filtered_table = pd.read_csv(Path('../data/messages_filtered_table.csv'))\n",
    " \n",
    "# Load the quesionnaire answers \n",
    "survey_info = pd.read_excel(Path('../data/survey.xlsx'))\n",
    "\n",
    "# Where to save numbers from the analysis\n",
    "data_reports_fp = Path('../reports/numbers.dat')\n",
    "\n",
    "# Where to save figures from the analysis\n",
    "figpath = Path('../reports')\n",
    "\n",
    "# Which colors to use to plot data from different messengers\n",
    "WhatsApp_color = '#3dc24f'\n",
    "Facebook_color = '#385999'"
   ]
  },
  {
   "cell_type": "code",
   "execution_count": 4,
   "id": "ec95b9c2-2997-4585-8b95-f246c2aa8a97",
   "metadata": {},
   "outputs": [],
   "source": [
    "source_group_chats = {'WhatsApp':None, 'Facebook':None}\n",
    "\n",
    "for source,color in zip(['WhatsApp','Facebook'],[WhatsApp_color,Facebook_color]):\n",
    "    sourceIDs = donation_table[donation_table['source'] == source]['donation_id']\n",
    "    group_chats = [0 for i in range(len(sourceIDs))]\n",
    "    total_chats = len(messages_table.groupby('conversation_id').size())\n",
    "    for ind,donationID in enumerate(sourceIDs):\n",
    "        # Get the donor_id for the donation to be able to separate the donor messages\n",
    "        egoID = donation_table[donation_table['donation_id']==donationID]['donor_id'].iloc[0]\n",
    "        \n",
    "        # Separate messages for a given dontion\n",
    "        #donation_messages = messages_table[messages_table['donation_id']==donationID]\n",
    "        donation_messages = messages_filtered_table[messages_filtered_table['donation_id']==donationID]\n",
    "\n",
    "        # Get chatIDs in a given donation\n",
    "        chatIDs = donation_messages['conversation_id'].unique()\n",
    "        for chatID in chatIDs:\n",
    "            # Separate messages in a given chat\n",
    "            chat_messages = donation_messages[donation_messages['conversation_id']==chatID]\n",
    "            # Calculate messages per sender\n",
    "            message_counts_per_sender = chat_messages.groupby('sender_id').size().reset_index(name='message_count')\n",
    "            if len(message_counts_per_sender) == 3:\n",
    "                # Some of our earlier donations didn't mark the \"System messages\" from WhatsApp, so we derived a heuristic to \n",
    "                # detect and remove them to avoid assigning group chats when the third \"sender\" is WhatsApp.\n",
    "                # In our empirical evaluation, \"sender\" is the one with the least messages and \n",
    "                # 5 messages is a good threshold to filter these out. \n",
    "                min_messages = message_counts_per_sender['message_count'].min()\n",
    "                if min_messages < 5:\n",
    "                    pass\n",
    "                else:\n",
    "                    group_chats[ind]+=1\n",
    "            elif len(message_counts_per_sender) >3:\n",
    "                group_chats[ind]+=1\n",
    "            else:\n",
    "                pass\n",
    "                \n",
    "    source_group_chats[source] = group_chats\n",
    "    save_descriptive_stats(data_reports_fp,f'{source}_group_filtered',source_group_chats[source])\n",
    "    save_variables(data_reports_fp,f'{source}_group_total_filtered',np.sum(source_group_chats[source]))\n",
    "    save_variables(data_reports_fp,f'{source}_group_total_filtered_percent',np.sum(source_group_chats[source])/total_chats*100)"
   ]
  },
  {
   "cell_type": "code",
   "execution_count": null,
   "id": "7ff39285-19e0-403b-b591-e0f7f2133928",
   "metadata": {},
   "outputs": [],
   "source": []
  }
 ],
 "metadata": {
  "kernelspec": {
   "display_name": "Python 3 (ipykernel)",
   "language": "python",
   "name": "python3"
  },
  "language_info": {
   "codemirror_mode": {
    "name": "ipython",
    "version": 3
   },
   "file_extension": ".py",
   "mimetype": "text/x-python",
   "name": "python",
   "nbconvert_exporter": "python",
   "pygments_lexer": "ipython3",
   "version": "3.8.12"
  }
 },
 "nbformat": 4,
 "nbformat_minor": 5
}
